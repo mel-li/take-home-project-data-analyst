{
 "cells": [
  {
   "cell_type": "code",
   "execution_count": 1,
   "metadata": {},
   "outputs": [],
   "source": [
    "import pandas as pd"
   ]
  },
  {
   "cell_type": "code",
   "execution_count": 2,
   "metadata": {},
   "outputs": [],
   "source": [
    "%matplotlib inline "
   ]
  },
  {
   "cell_type": "code",
   "execution_count": 3,
   "metadata": {},
   "outputs": [
    {
     "data": {
      "text/html": [
       "<style>.container { width:99% !important; }</style>"
      ],
      "text/plain": [
       "<IPython.core.display.HTML object>"
      ]
     },
     "metadata": {},
     "output_type": "display_data"
    }
   ],
   "source": [
    "from IPython.core.display import display, HTML\n",
    "display(HTML(\"<style>.container { width:99% !important; }</style>\"))"
   ]
  },
  {
   "cell_type": "markdown",
   "metadata": {},
   "source": [
    "# Overview\n",
    "\n",
    "Each row represents a home sale.\n",
    "\n",
    "We try to predict both home sales, and types of sales.\n",
    "\n",
    "When `audantic_target`=1, this is the type of transaction we are trying to predict.\n",
    "\n",
    "```\n",
    "'audantic_target': 1 or 0, if we are trying to predict\n",
    "\n",
    "'pid': property id\n",
    "'did': sales document id\n",
    "'fips': county id\n",
    "'zipcode': zipcode\n",
    "'sfr': bool for is single family home\n",
    "\n",
    "-- house details\n",
    "'square_footage': \n",
    "'year_built'\n",
    "'equity'\n",
    "'estimated_value'\n",
    "'tax_assessed_value'\n",
    "'length_of_ownership'\n",
    "\n",
    "-- owner details\n",
    "'est_household_income_val': estimated income\n",
    "'mosaic_hh_val': demographic variable for home\n",
    "'mosaic_zip4_val': demographic variable for neighborhood\n",
    "'mosaic_diff': difference between home and neighborhood demographics\n",
    "\n",
    "-- sale descriptors\n",
    "'sale_amount': home sale price\n",
    "'seller_name'\n",
    "'buyer_name'\n",
    "'seller_occupied': if seller lived in the house\n",
    "'document_type'\n",
    "'distress_circumstance'\n",
    "'transfer_type'\n",
    "```"
   ]
  },
  {
   "cell_type": "code",
   "execution_count": 4,
   "metadata": {},
   "outputs": [],
   "source": [
    "# Objective\n",
    "\n"
   ]
  },
  {
   "cell_type": "markdown",
   "metadata": {},
   "source": [
    "## read in the data"
   ]
  },
  {
   "cell_type": "code",
   "execution_count": 5,
   "metadata": {},
   "outputs": [],
   "source": [
    "df = pd.read_csv('targets_IL.csv')"
   ]
  },
  {
   "cell_type": "code",
   "execution_count": 6,
   "metadata": {},
   "outputs": [
    {
     "name": "stdout",
     "output_type": "stream",
     "text": [
      "['pid' 'did' 'fips' 'zipcode' 'sfr' 'seller_occupied' 'square_footage'\n",
      " 'year_built' 'equity' 'estimated_value' 'tax_assessed_value' 'seller_name'\n",
      " 'buyer_name' 'document_type' 'distress_circumstance' 'transfer_type'\n",
      " 'length_of_ownership' 'sale_amount' 'est_household_income_val'\n",
      " 'mosaic_hh_val' 'mosaic_zip4_val' 'mosaic_diff' 'anti_distress'\n",
      " 'anti_fake_deal' 'anti_short_sale' 'anti_bad_name' 'anti_sqft'\n",
      " 'anti_yearbuilt' 'anti_est_value' 'audantic_target']\n"
     ]
    }
   ],
   "source": [
    "print(df.columns.values)"
   ]
  },
  {
   "cell_type": "markdown",
   "metadata": {},
   "source": [
    "## column groupings"
   ]
  },
  {
   "cell_type": "code",
   "execution_count": 7,
   "metadata": {},
   "outputs": [],
   "source": [
    "info_cols = ['pid']"
   ]
  },
  {
   "cell_type": "code",
   "execution_count": 8,
   "metadata": {},
   "outputs": [],
   "source": [
    "groupby_cols = [\n",
    "    'document_type', \n",
    "    'distress_circumstance', \n",
    "    'transfer_type'\n",
    "]"
   ]
  },
  {
   "cell_type": "code",
   "execution_count": 9,
   "metadata": {},
   "outputs": [],
   "source": [
    "geography_cols = ['zipcode', 'fips']"
   ]
  },
  {
   "cell_type": "code",
   "execution_count": 10,
   "metadata": {},
   "outputs": [],
   "source": [
    "describe_cols = [\n",
    "    'square_footage',\n",
    "    'year_built',\n",
    "    'equity',\n",
    "    'estimated_value',\n",
    "    'tax_assessed_value',\n",
    "    'length_of_ownership',\n",
    "    'sale_amount',\n",
    "    'est_household_income_val',\n",
    "    'mosaic_hh_val',\n",
    "    'mosaic_zip4_val',\n",
    "    'mosaic_diff',\n",
    "    'seller_occupied'\n",
    "]"
   ]
  },
  {
   "cell_type": "code",
   "execution_count": 11,
   "metadata": {},
   "outputs": [],
   "source": [
    "anti_cols = [\n",
    "    'anti_distress',\n",
    "    'anti_fake_deal',\n",
    "    'anti_short_sale',\n",
    "    'anti_bad_name',\n",
    "    'anti_sqft',\n",
    "    'anti_yearbuilt',\n",
    "    'anti_est_value'\n",
    "]"
   ]
  },
  {
   "cell_type": "code",
   "execution_count": 12,
   "metadata": {},
   "outputs": [],
   "source": [
    "output_cols = ['audantic_target']"
   ]
  },
  {
   "cell_type": "markdown",
   "metadata": {},
   "source": [
    "# Descriptive Statistics (data structure / missing data)"
   ]
  },
  {
   "cell_type": "code",
   "execution_count": 13,
   "metadata": {
    "scrolled": true
   },
   "outputs": [
    {
     "data": {
      "text/html": [
       "<div>\n",
       "<table border=\"1\" class=\"dataframe\">\n",
       "  <thead>\n",
       "    <tr style=\"text-align: right;\">\n",
       "      <th></th>\n",
       "      <th>square_footage</th>\n",
       "      <th>year_built</th>\n",
       "      <th>equity</th>\n",
       "      <th>estimated_value</th>\n",
       "      <th>tax_assessed_value</th>\n",
       "      <th>length_of_ownership</th>\n",
       "      <th>sale_amount</th>\n",
       "      <th>est_household_income_val</th>\n",
       "      <th>mosaic_hh_val</th>\n",
       "      <th>mosaic_zip4_val</th>\n",
       "      <th>mosaic_diff</th>\n",
       "      <th>seller_occupied</th>\n",
       "    </tr>\n",
       "  </thead>\n",
       "  <tbody>\n",
       "    <tr>\n",
       "      <th>count</th>\n",
       "      <td>75049.0</td>\n",
       "      <td>75049.0</td>\n",
       "      <td>75049.0</td>\n",
       "      <td>75049.0</td>\n",
       "      <td>3308.0</td>\n",
       "      <td>49672.0</td>\n",
       "      <td>75049.0</td>\n",
       "      <td>75049.0</td>\n",
       "      <td>75049.0</td>\n",
       "      <td>75049.0</td>\n",
       "      <td>75049.0</td>\n",
       "      <td>75049.0</td>\n",
       "    </tr>\n",
       "    <tr>\n",
       "      <th>mean</th>\n",
       "      <td>1587.0</td>\n",
       "      <td>1949.8</td>\n",
       "      <td>66118.5</td>\n",
       "      <td>305105.0</td>\n",
       "      <td>24077.4</td>\n",
       "      <td>6.7</td>\n",
       "      <td>289160.5</td>\n",
       "      <td>66138.3</td>\n",
       "      <td>37.4</td>\n",
       "      <td>30.6</td>\n",
       "      <td>-6.9</td>\n",
       "      <td>0.6</td>\n",
       "    </tr>\n",
       "    <tr>\n",
       "      <th>std</th>\n",
       "      <td>775.7</td>\n",
       "      <td>65.4</td>\n",
       "      <td>109305.9</td>\n",
       "      <td>237613.9</td>\n",
       "      <td>21297.8</td>\n",
       "      <td>5.8</td>\n",
       "      <td>256123.2</td>\n",
       "      <td>70083.2</td>\n",
       "      <td>25.2</td>\n",
       "      <td>22.5</td>\n",
       "      <td>19.6</td>\n",
       "      <td>0.5</td>\n",
       "    </tr>\n",
       "    <tr>\n",
       "      <th>min</th>\n",
       "      <td>0.0</td>\n",
       "      <td>0.0</td>\n",
       "      <td>0.0</td>\n",
       "      <td>0.0</td>\n",
       "      <td>0.0</td>\n",
       "      <td>0.0</td>\n",
       "      <td>3000.0</td>\n",
       "      <td>0.0</td>\n",
       "      <td>1.0</td>\n",
       "      <td>1.0</td>\n",
       "      <td>-71.0</td>\n",
       "      <td>0.0</td>\n",
       "    </tr>\n",
       "    <tr>\n",
       "      <th>25%</th>\n",
       "      <td>1086.0</td>\n",
       "      <td>1934.0</td>\n",
       "      <td>0.0</td>\n",
       "      <td>162000.0</td>\n",
       "      <td>11905.5</td>\n",
       "      <td>1.2</td>\n",
       "      <td>136500.0</td>\n",
       "      <td>7500.0</td>\n",
       "      <td>16.0</td>\n",
       "      <td>16.0</td>\n",
       "      <td>-8.0</td>\n",
       "      <td>0.0</td>\n",
       "    </tr>\n",
       "    <tr>\n",
       "      <th>50%</th>\n",
       "      <td>1329.0</td>\n",
       "      <td>1955.0</td>\n",
       "      <td>27355.0</td>\n",
       "      <td>241000.0</td>\n",
       "      <td>18369.0</td>\n",
       "      <td>5.0</td>\n",
       "      <td>226000.0</td>\n",
       "      <td>62500.0</td>\n",
       "      <td>31.0</td>\n",
       "      <td>25.0</td>\n",
       "      <td>0.0</td>\n",
       "      <td>1.0</td>\n",
       "    </tr>\n",
       "    <tr>\n",
       "      <th>75%</th>\n",
       "      <td>1840.0</td>\n",
       "      <td>1967.0</td>\n",
       "      <td>88310.0</td>\n",
       "      <td>357000.0</td>\n",
       "      <td>28262.2</td>\n",
       "      <td>11.6</td>\n",
       "      <td>350000.0</td>\n",
       "      <td>87500.0</td>\n",
       "      <td>69.0</td>\n",
       "      <td>38.0</td>\n",
       "      <td>0.0</td>\n",
       "      <td>1.0</td>\n",
       "    </tr>\n",
       "    <tr>\n",
       "      <th>max</th>\n",
       "      <td>11024.0</td>\n",
       "      <td>2016.0</td>\n",
       "      <td>1854000.0</td>\n",
       "      <td>2879000.0</td>\n",
       "      <td>266793.0</td>\n",
       "      <td>32.5</td>\n",
       "      <td>1996500.0</td>\n",
       "      <td>300000.0</td>\n",
       "      <td>72.0</td>\n",
       "      <td>72.0</td>\n",
       "      <td>60.0</td>\n",
       "      <td>1.0</td>\n",
       "    </tr>\n",
       "  </tbody>\n",
       "</table>\n",
       "</div>"
      ],
      "text/plain": [
       "       square_footage  year_built     equity  estimated_value  \\\n",
       "count         75049.0     75049.0    75049.0          75049.0   \n",
       "mean           1587.0      1949.8    66118.5         305105.0   \n",
       "std             775.7        65.4   109305.9         237613.9   \n",
       "min               0.0         0.0        0.0              0.0   \n",
       "25%            1086.0      1934.0        0.0         162000.0   \n",
       "50%            1329.0      1955.0    27355.0         241000.0   \n",
       "75%            1840.0      1967.0    88310.0         357000.0   \n",
       "max           11024.0      2016.0  1854000.0        2879000.0   \n",
       "\n",
       "       tax_assessed_value  length_of_ownership  sale_amount  \\\n",
       "count              3308.0              49672.0      75049.0   \n",
       "mean              24077.4                  6.7     289160.5   \n",
       "std               21297.8                  5.8     256123.2   \n",
       "min                   0.0                  0.0       3000.0   \n",
       "25%               11905.5                  1.2     136500.0   \n",
       "50%               18369.0                  5.0     226000.0   \n",
       "75%               28262.2                 11.6     350000.0   \n",
       "max              266793.0                 32.5    1996500.0   \n",
       "\n",
       "       est_household_income_val  mosaic_hh_val  mosaic_zip4_val  mosaic_diff  \\\n",
       "count                   75049.0        75049.0          75049.0      75049.0   \n",
       "mean                    66138.3           37.4             30.6         -6.9   \n",
       "std                     70083.2           25.2             22.5         19.6   \n",
       "min                         0.0            1.0              1.0        -71.0   \n",
       "25%                      7500.0           16.0             16.0         -8.0   \n",
       "50%                     62500.0           31.0             25.0          0.0   \n",
       "75%                     87500.0           69.0             38.0          0.0   \n",
       "max                    300000.0           72.0             72.0         60.0   \n",
       "\n",
       "       seller_occupied  \n",
       "count          75049.0  \n",
       "mean               0.6  \n",
       "std                0.5  \n",
       "min                0.0  \n",
       "25%                0.0  \n",
       "50%                1.0  \n",
       "75%                1.0  \n",
       "max                1.0  "
      ]
     },
     "execution_count": 13,
     "metadata": {},
     "output_type": "execute_result"
    }
   ],
   "source": [
    "df[describe_cols].describe().round(1)"
   ]
  },
  {
   "cell_type": "markdown",
   "metadata": {},
   "source": [
    "### The summary statistics above (specifically row count) help point out missing data: 'tax_assessed_value' is missing data for 95% of rows, 'length_of_ownership' is missing data for over 33% of rows"
   ]
  },
  {
   "cell_type": "code",
   "execution_count": 14,
   "metadata": {
    "scrolled": true
   },
   "outputs": [
    {
     "data": {
      "text/html": [
       "<div>\n",
       "<table border=\"1\" class=\"dataframe\">\n",
       "  <thead>\n",
       "    <tr style=\"text-align: right;\">\n",
       "      <th></th>\n",
       "      <th>pid</th>\n",
       "      <th>square_footage</th>\n",
       "      <th>year_built</th>\n",
       "      <th>equity</th>\n",
       "      <th>estimated_value</th>\n",
       "      <th>tax_assessed_value</th>\n",
       "      <th>length_of_ownership</th>\n",
       "      <th>sale_amount</th>\n",
       "      <th>est_household_income_val</th>\n",
       "      <th>mosaic_hh_val</th>\n",
       "      <th>mosaic_zip4_val</th>\n",
       "      <th>mosaic_diff</th>\n",
       "      <th>seller_occupied</th>\n",
       "      <th>document_type</th>\n",
       "      <th>distress_circumstance</th>\n",
       "      <th>transfer_type</th>\n",
       "    </tr>\n",
       "  </thead>\n",
       "  <tbody>\n",
       "    <tr>\n",
       "      <th>0</th>\n",
       "      <td>38964962</td>\n",
       "      <td>1120</td>\n",
       "      <td>1891</td>\n",
       "      <td>0</td>\n",
       "      <td>321000</td>\n",
       "      <td>NaN</td>\n",
       "      <td>10.3929</td>\n",
       "      <td>137000</td>\n",
       "      <td>0</td>\n",
       "      <td>72</td>\n",
       "      <td>72</td>\n",
       "      <td>0</td>\n",
       "      <td>0</td>\n",
       "      <td>Warranty Deed</td>\n",
       "      <td>NaN</td>\n",
       "      <td>Transfer</td>\n",
       "    </tr>\n",
       "    <tr>\n",
       "      <th>1</th>\n",
       "      <td>18209234</td>\n",
       "      <td>1558</td>\n",
       "      <td>1927</td>\n",
       "      <td>161000</td>\n",
       "      <td>316000</td>\n",
       "      <td>NaN</td>\n",
       "      <td>NaN</td>\n",
       "      <td>135000</td>\n",
       "      <td>0</td>\n",
       "      <td>72</td>\n",
       "      <td>72</td>\n",
       "      <td>0</td>\n",
       "      <td>0</td>\n",
       "      <td>Grant Deed</td>\n",
       "      <td>NaN</td>\n",
       "      <td>Transfer</td>\n",
       "    </tr>\n",
       "    <tr>\n",
       "      <th>2</th>\n",
       "      <td>174716703</td>\n",
       "      <td>1316</td>\n",
       "      <td>1966</td>\n",
       "      <td>87000</td>\n",
       "      <td>287000</td>\n",
       "      <td>NaN</td>\n",
       "      <td>0.4983</td>\n",
       "      <td>116000</td>\n",
       "      <td>0</td>\n",
       "      <td>72</td>\n",
       "      <td>72</td>\n",
       "      <td>0</td>\n",
       "      <td>0</td>\n",
       "      <td>Grant Deed</td>\n",
       "      <td>NaN</td>\n",
       "      <td>Transfer</td>\n",
       "    </tr>\n",
       "    <tr>\n",
       "      <th>3</th>\n",
       "      <td>175197034</td>\n",
       "      <td>1617</td>\n",
       "      <td>1952</td>\n",
       "      <td>0</td>\n",
       "      <td>151000</td>\n",
       "      <td>NaN</td>\n",
       "      <td>15.4853</td>\n",
       "      <td>180000</td>\n",
       "      <td>0</td>\n",
       "      <td>72</td>\n",
       "      <td>72</td>\n",
       "      <td>0</td>\n",
       "      <td>0</td>\n",
       "      <td>Grant Deed</td>\n",
       "      <td>NaN</td>\n",
       "      <td>Transfer</td>\n",
       "    </tr>\n",
       "    <tr>\n",
       "      <th>4</th>\n",
       "      <td>175197035</td>\n",
       "      <td>1617</td>\n",
       "      <td>1952</td>\n",
       "      <td>0</td>\n",
       "      <td>151000</td>\n",
       "      <td>NaN</td>\n",
       "      <td>NaN</td>\n",
       "      <td>180000</td>\n",
       "      <td>0</td>\n",
       "      <td>72</td>\n",
       "      <td>72</td>\n",
       "      <td>0</td>\n",
       "      <td>0</td>\n",
       "      <td>Grant Deed</td>\n",
       "      <td>NaN</td>\n",
       "      <td>Transfer</td>\n",
       "    </tr>\n",
       "    <tr>\n",
       "      <th>5</th>\n",
       "      <td>25809070</td>\n",
       "      <td>874</td>\n",
       "      <td>1947</td>\n",
       "      <td>13020</td>\n",
       "      <td>132000</td>\n",
       "      <td>NaN</td>\n",
       "      <td>1.6454</td>\n",
       "      <td>173000</td>\n",
       "      <td>0</td>\n",
       "      <td>72</td>\n",
       "      <td>72</td>\n",
       "      <td>0</td>\n",
       "      <td>0</td>\n",
       "      <td>Warranty Deed</td>\n",
       "      <td>NaN</td>\n",
       "      <td>Transfer</td>\n",
       "    </tr>\n",
       "    <tr>\n",
       "      <th>6</th>\n",
       "      <td>38906192</td>\n",
       "      <td>1785</td>\n",
       "      <td>1955</td>\n",
       "      <td>168000</td>\n",
       "      <td>466000</td>\n",
       "      <td>NaN</td>\n",
       "      <td>1.6646</td>\n",
       "      <td>367500</td>\n",
       "      <td>0</td>\n",
       "      <td>72</td>\n",
       "      <td>19</td>\n",
       "      <td>-53</td>\n",
       "      <td>0</td>\n",
       "      <td>Grant Deed</td>\n",
       "      <td>NaN</td>\n",
       "      <td>Transfer</td>\n",
       "    </tr>\n",
       "    <tr>\n",
       "      <th>7</th>\n",
       "      <td>11244467</td>\n",
       "      <td>1017</td>\n",
       "      <td>1941</td>\n",
       "      <td>0</td>\n",
       "      <td>214000</td>\n",
       "      <td>NaN</td>\n",
       "      <td>1.0157</td>\n",
       "      <td>176599</td>\n",
       "      <td>0</td>\n",
       "      <td>72</td>\n",
       "      <td>11</td>\n",
       "      <td>-61</td>\n",
       "      <td>0</td>\n",
       "      <td>Grant Deed</td>\n",
       "      <td>Sale Record -  REO Liquidation</td>\n",
       "      <td>Transfer</td>\n",
       "    </tr>\n",
       "    <tr>\n",
       "      <th>8</th>\n",
       "      <td>144072809</td>\n",
       "      <td>980</td>\n",
       "      <td>1961</td>\n",
       "      <td>0</td>\n",
       "      <td>141000</td>\n",
       "      <td>NaN</td>\n",
       "      <td>0.5613</td>\n",
       "      <td>63000</td>\n",
       "      <td>0</td>\n",
       "      <td>72</td>\n",
       "      <td>72</td>\n",
       "      <td>0</td>\n",
       "      <td>0</td>\n",
       "      <td>Grant Deed</td>\n",
       "      <td>Sale Record -  REO Liquidation</td>\n",
       "      <td>Transfer</td>\n",
       "    </tr>\n",
       "    <tr>\n",
       "      <th>9</th>\n",
       "      <td>149637709</td>\n",
       "      <td>1248</td>\n",
       "      <td>1968</td>\n",
       "      <td>27243</td>\n",
       "      <td>203000</td>\n",
       "      <td>NaN</td>\n",
       "      <td>0.9227</td>\n",
       "      <td>179000</td>\n",
       "      <td>30000</td>\n",
       "      <td>31</td>\n",
       "      <td>16</td>\n",
       "      <td>-15</td>\n",
       "      <td>0</td>\n",
       "      <td>Grant Deed</td>\n",
       "      <td>Sale Record -  REO Liquidation</td>\n",
       "      <td>Transfer</td>\n",
       "    </tr>\n",
       "  </tbody>\n",
       "</table>\n",
       "</div>"
      ],
      "text/plain": [
       "         pid  square_footage  year_built  equity  estimated_value  \\\n",
       "0   38964962            1120        1891       0           321000   \n",
       "1   18209234            1558        1927  161000           316000   \n",
       "2  174716703            1316        1966   87000           287000   \n",
       "3  175197034            1617        1952       0           151000   \n",
       "4  175197035            1617        1952       0           151000   \n",
       "5   25809070             874        1947   13020           132000   \n",
       "6   38906192            1785        1955  168000           466000   \n",
       "7   11244467            1017        1941       0           214000   \n",
       "8  144072809             980        1961       0           141000   \n",
       "9  149637709            1248        1968   27243           203000   \n",
       "\n",
       "   tax_assessed_value  length_of_ownership  sale_amount  \\\n",
       "0                 NaN              10.3929       137000   \n",
       "1                 NaN                  NaN       135000   \n",
       "2                 NaN               0.4983       116000   \n",
       "3                 NaN              15.4853       180000   \n",
       "4                 NaN                  NaN       180000   \n",
       "5                 NaN               1.6454       173000   \n",
       "6                 NaN               1.6646       367500   \n",
       "7                 NaN               1.0157       176599   \n",
       "8                 NaN               0.5613        63000   \n",
       "9                 NaN               0.9227       179000   \n",
       "\n",
       "   est_household_income_val  mosaic_hh_val  mosaic_zip4_val  mosaic_diff  \\\n",
       "0                         0             72               72            0   \n",
       "1                         0             72               72            0   \n",
       "2                         0             72               72            0   \n",
       "3                         0             72               72            0   \n",
       "4                         0             72               72            0   \n",
       "5                         0             72               72            0   \n",
       "6                         0             72               19          -53   \n",
       "7                         0             72               11          -61   \n",
       "8                         0             72               72            0   \n",
       "9                     30000             31               16          -15   \n",
       "\n",
       "   seller_occupied  document_type           distress_circumstance  \\\n",
       "0                0  Warranty Deed                             NaN   \n",
       "1                0     Grant Deed                             NaN   \n",
       "2                0     Grant Deed                             NaN   \n",
       "3                0     Grant Deed                             NaN   \n",
       "4                0     Grant Deed                             NaN   \n",
       "5                0  Warranty Deed                             NaN   \n",
       "6                0     Grant Deed                             NaN   \n",
       "7                0     Grant Deed  Sale Record -  REO Liquidation   \n",
       "8                0     Grant Deed  Sale Record -  REO Liquidation   \n",
       "9                0     Grant Deed  Sale Record -  REO Liquidation   \n",
       "\n",
       "  transfer_type  \n",
       "0      Transfer  \n",
       "1      Transfer  \n",
       "2      Transfer  \n",
       "3      Transfer  \n",
       "4      Transfer  \n",
       "5      Transfer  \n",
       "6      Transfer  \n",
       "7      Transfer  \n",
       "8      Transfer  \n",
       "9      Transfer  "
      ]
     },
     "execution_count": 14,
     "metadata": {},
     "output_type": "execute_result"
    }
   ],
   "source": [
    "df[info_cols + describe_cols + groupby_cols].head(10)"
   ]
  },
  {
   "cell_type": "markdown",
   "metadata": {},
   "source": [
    "### Previewing the first 10 rows helps point out other missing data (where the value is 0 instead of NaN) for column 'est_household_income_val'"
   ]
  },
  {
   "cell_type": "code",
   "execution_count": 15,
   "metadata": {},
   "outputs": [
    {
     "data": {
      "text/plain": [
       "pid    18066\n",
       "dtype: int64"
      ]
     },
     "execution_count": 15,
     "metadata": {},
     "output_type": "execute_result"
    }
   ],
   "source": [
    "df[df['est_household_income_val']==0].count().filter(items=['pid'])"
   ]
  },
  {
   "cell_type": "markdown",
   "metadata": {},
   "source": [
    "### Approximately 25% of values in column 'est_household_income_val' are missing (they are 0 which I'm assuming is a placeholder for unknown)"
   ]
  },
  {
   "cell_type": "code",
   "execution_count": 16,
   "metadata": {},
   "outputs": [
    {
     "data": {
      "text/html": [
       "<div>\n",
       "<table border=\"1\" class=\"dataframe\">\n",
       "  <thead>\n",
       "    <tr style=\"text-align: right;\">\n",
       "      <th></th>\n",
       "      <th>anti_distress</th>\n",
       "      <th>anti_fake_deal</th>\n",
       "      <th>anti_short_sale</th>\n",
       "      <th>anti_bad_name</th>\n",
       "      <th>anti_sqft</th>\n",
       "      <th>anti_yearbuilt</th>\n",
       "      <th>anti_est_value</th>\n",
       "    </tr>\n",
       "  </thead>\n",
       "  <tbody>\n",
       "    <tr>\n",
       "      <th>count</th>\n",
       "      <td>75049.0</td>\n",
       "      <td>75049.0</td>\n",
       "      <td>75049.0</td>\n",
       "      <td>75049.0</td>\n",
       "      <td>75049.0</td>\n",
       "      <td>75049.0</td>\n",
       "      <td>75049.0</td>\n",
       "    </tr>\n",
       "    <tr>\n",
       "      <th>mean</th>\n",
       "      <td>-0.4</td>\n",
       "      <td>-0.0</td>\n",
       "      <td>-0.1</td>\n",
       "      <td>-0.1</td>\n",
       "      <td>-0.0</td>\n",
       "      <td>-0.0</td>\n",
       "      <td>-0.0</td>\n",
       "    </tr>\n",
       "    <tr>\n",
       "      <th>std</th>\n",
       "      <td>0.5</td>\n",
       "      <td>0.1</td>\n",
       "      <td>0.4</td>\n",
       "      <td>0.3</td>\n",
       "      <td>0.1</td>\n",
       "      <td>0.1</td>\n",
       "      <td>0.2</td>\n",
       "    </tr>\n",
       "    <tr>\n",
       "      <th>min</th>\n",
       "      <td>-1.0</td>\n",
       "      <td>-1.0</td>\n",
       "      <td>-1.0</td>\n",
       "      <td>-1.0</td>\n",
       "      <td>-1.0</td>\n",
       "      <td>-1.0</td>\n",
       "      <td>-1.0</td>\n",
       "    </tr>\n",
       "    <tr>\n",
       "      <th>25%</th>\n",
       "      <td>-1.0</td>\n",
       "      <td>0.0</td>\n",
       "      <td>0.0</td>\n",
       "      <td>0.0</td>\n",
       "      <td>0.0</td>\n",
       "      <td>0.0</td>\n",
       "      <td>0.0</td>\n",
       "    </tr>\n",
       "    <tr>\n",
       "      <th>50%</th>\n",
       "      <td>0.0</td>\n",
       "      <td>0.0</td>\n",
       "      <td>0.0</td>\n",
       "      <td>0.0</td>\n",
       "      <td>0.0</td>\n",
       "      <td>0.0</td>\n",
       "      <td>0.0</td>\n",
       "    </tr>\n",
       "    <tr>\n",
       "      <th>75%</th>\n",
       "      <td>0.0</td>\n",
       "      <td>0.0</td>\n",
       "      <td>0.0</td>\n",
       "      <td>0.0</td>\n",
       "      <td>0.0</td>\n",
       "      <td>0.0</td>\n",
       "      <td>0.0</td>\n",
       "    </tr>\n",
       "    <tr>\n",
       "      <th>max</th>\n",
       "      <td>0.0</td>\n",
       "      <td>0.0</td>\n",
       "      <td>0.0</td>\n",
       "      <td>0.0</td>\n",
       "      <td>0.0</td>\n",
       "      <td>0.0</td>\n",
       "      <td>0.0</td>\n",
       "    </tr>\n",
       "  </tbody>\n",
       "</table>\n",
       "</div>"
      ],
      "text/plain": [
       "       anti_distress  anti_fake_deal  anti_short_sale  anti_bad_name  \\\n",
       "count        75049.0         75049.0          75049.0        75049.0   \n",
       "mean            -0.4            -0.0             -0.1           -0.1   \n",
       "std              0.5             0.1              0.4            0.3   \n",
       "min             -1.0            -1.0             -1.0           -1.0   \n",
       "25%             -1.0             0.0              0.0            0.0   \n",
       "50%              0.0             0.0              0.0            0.0   \n",
       "75%              0.0             0.0              0.0            0.0   \n",
       "max              0.0             0.0              0.0            0.0   \n",
       "\n",
       "       anti_sqft  anti_yearbuilt  anti_est_value  \n",
       "count    75049.0         75049.0         75049.0  \n",
       "mean        -0.0            -0.0            -0.0  \n",
       "std          0.1             0.1             0.2  \n",
       "min         -1.0            -1.0            -1.0  \n",
       "25%          0.0             0.0             0.0  \n",
       "50%          0.0             0.0             0.0  \n",
       "75%          0.0             0.0             0.0  \n",
       "max          0.0             0.0             0.0  "
      ]
     },
     "execution_count": 16,
     "metadata": {},
     "output_type": "execute_result"
    }
   ],
   "source": [
    "df[anti_cols].describe().round(1)"
   ]
  },
  {
   "cell_type": "code",
   "execution_count": 17,
   "metadata": {},
   "outputs": [
    {
     "data": {
      "text/plain": [
       "anti_distress      46348\n",
       "anti_fake_deal     73570\n",
       "anti_short_sale    64052\n",
       "anti_bad_name      65448\n",
       "anti_sqft          73726\n",
       "anti_yearbuilt     74729\n",
       "anti_est_value     73128\n",
       "audantic_target        0\n",
       "dtype: int64"
      ]
     },
     "execution_count": 17,
     "metadata": {},
     "output_type": "execute_result"
    }
   ],
   "source": [
    "df[df[anti_cols]==0].count().filter(like='anti')"
   ]
  },
  {
   "cell_type": "markdown",
   "metadata": {},
   "source": [
    "### \"anti\" column values are binary and most = 0. All \"anti\" column values = 0 for rows where 'audantic_target' = 1"
   ]
  },
  {
   "cell_type": "markdown",
   "metadata": {},
   "source": [
    "# Analysis (differences between audantic_target=1 and =0)"
   ]
  },
  {
   "cell_type": "code",
   "execution_count": 18,
   "metadata": {
    "scrolled": true
   },
   "outputs": [
    {
     "data": {
      "text/html": [
       "<div>\n",
       "<table border=\"1\" class=\"dataframe\">\n",
       "  <thead>\n",
       "    <tr style=\"text-align: right;\">\n",
       "      <th>audantic_target</th>\n",
       "      <th>0</th>\n",
       "      <th>1</th>\n",
       "    </tr>\n",
       "  </thead>\n",
       "  <tbody>\n",
       "    <tr>\n",
       "      <th>square_footage</th>\n",
       "      <td>1594.55</td>\n",
       "      <td>1388.42</td>\n",
       "    </tr>\n",
       "    <tr>\n",
       "      <th>year_built</th>\n",
       "      <td>1950.24</td>\n",
       "      <td>1939.02</td>\n",
       "    </tr>\n",
       "    <tr>\n",
       "      <th>equity</th>\n",
       "      <td>66499.22</td>\n",
       "      <td>56083.97</td>\n",
       "    </tr>\n",
       "    <tr>\n",
       "      <th>estimated_value</th>\n",
       "      <td>305796.19</td>\n",
       "      <td>286885.53</td>\n",
       "    </tr>\n",
       "    <tr>\n",
       "      <th>tax_assessed_value</th>\n",
       "      <td>24003.27</td>\n",
       "      <td>25806.87</td>\n",
       "    </tr>\n",
       "    <tr>\n",
       "      <th>length_of_ownership</th>\n",
       "      <td>6.66</td>\n",
       "      <td>5.97</td>\n",
       "    </tr>\n",
       "    <tr>\n",
       "      <th>sale_amount</th>\n",
       "      <td>292122.13</td>\n",
       "      <td>211090.12</td>\n",
       "    </tr>\n",
       "    <tr>\n",
       "      <th>est_household_income_val</th>\n",
       "      <td>66803.97</td>\n",
       "      <td>48590.96</td>\n",
       "    </tr>\n",
       "    <tr>\n",
       "      <th>mosaic_hh_val</th>\n",
       "      <td>37.26</td>\n",
       "      <td>42.28</td>\n",
       "    </tr>\n",
       "    <tr>\n",
       "      <th>mosaic_zip4_val</th>\n",
       "      <td>30.42</td>\n",
       "      <td>34.48</td>\n",
       "    </tr>\n",
       "    <tr>\n",
       "      <th>mosaic_diff</th>\n",
       "      <td>-6.85</td>\n",
       "      <td>-7.79</td>\n",
       "    </tr>\n",
       "    <tr>\n",
       "      <th>seller_occupied</th>\n",
       "      <td>0.64</td>\n",
       "      <td>0.58</td>\n",
       "    </tr>\n",
       "  </tbody>\n",
       "</table>\n",
       "</div>"
      ],
      "text/plain": [
       "audantic_target                   0          1\n",
       "square_footage              1594.55    1388.42\n",
       "year_built                  1950.24    1939.02\n",
       "equity                     66499.22   56083.97\n",
       "estimated_value           305796.19  286885.53\n",
       "tax_assessed_value         24003.27   25806.87\n",
       "length_of_ownership            6.66       5.97\n",
       "sale_amount               292122.13  211090.12\n",
       "est_household_income_val   66803.97   48590.96\n",
       "mosaic_hh_val                 37.26      42.28\n",
       "mosaic_zip4_val               30.42      34.48\n",
       "mosaic_diff                   -6.85      -7.79\n",
       "seller_occupied                0.64       0.58"
      ]
     },
     "execution_count": 18,
     "metadata": {},
     "output_type": "execute_result"
    }
   ],
   "source": [
    "# .T is transpose, makes the columns vertical instead of horizontal\n",
    "\n",
    "df[describe_cols + output_cols].groupby('audantic_target').mean().round(2).T"
   ]
  },
  {
   "cell_type": "markdown",
   "metadata": {},
   "source": [
    "### The chart above helps clue us into which columns may influence the value of 'audantic_target'\n",
    "### Columns to investigate: \n",
    "1. square_footage\n",
    "2. year_built\n",
    "3. equity\n",
    "4. mosaic_diff\n",
    "5. difference between average 'estimated_value' and average 'sale_amount' (seems much greater for 'audantic_target'=1 vs 0)"
   ]
  },
  {
   "cell_type": "markdown",
   "metadata": {},
   "source": [
    "## Histograms"
   ]
  },
  {
   "cell_type": "code",
   "execution_count": 19,
   "metadata": {
    "scrolled": true
   },
   "outputs": [
    {
     "data": {
      "text/plain": [
       "array([<matplotlib.axes._subplots.AxesSubplot object at 0x7fca6a5303c8>,\n",
       "       <matplotlib.axes._subplots.AxesSubplot object at 0x7fca6a4597b8>], dtype=object)"
      ]
     },
     "execution_count": 19,
     "metadata": {},
     "output_type": "execute_result"
    },
    {
     "data": {
      "image/png": "[encoded data removed]",
      "text/plain": [
       "<matplotlib.figure.Figure at 0x7fca683863c8>"
      ]
     },
     "metadata": {},
     "output_type": "display_data"
    }
   ],
   "source": [
    "df.hist(column='square_footage', by='audantic_target', bins=5, range=(0, 5000), figsize=(15,5))"
   ]
  },
  {
   "cell_type": "code",
   "execution_count": 20,
   "metadata": {},
   "outputs": [
    {
     "data": {
      "text/plain": [
       "array([<matplotlib.axes._subplots.AxesSubplot object at 0x7fca6a3efc50>,\n",
       "       <matplotlib.axes._subplots.AxesSubplot object at 0x7fca6a2f0400>], dtype=object)"
      ]
     },
     "execution_count": 20,
     "metadata": {},
     "output_type": "execute_result"
    },
    {
     "data": {
      "image/png": "[encoded data removed]",
      "text/plain": [
       "<matplotlib.figure.Figure at 0x7fca6a5305f8>"
      ]
     },
     "metadata": {},
     "output_type": "display_data"
    }
   ],
   "source": [
    "df.hist(column='year_built', by='audantic_target', bins=10, range=(1930, 2020), figsize=(15,5))"
   ]
  },
  {
   "cell_type": "code",
   "execution_count": 21,
   "metadata": {},
   "outputs": [
    {
     "data": {
      "text/plain": [
       "array([<matplotlib.axes._subplots.AxesSubplot object at 0x7fca6a2774e0>,\n",
       "       <matplotlib.axes._subplots.AxesSubplot object at 0x7fca69e8c198>], dtype=object)"
      ]
     },
     "execution_count": 21,
     "metadata": {},
     "output_type": "execute_result"
    },
    {
     "data": {
      "image/png": "[encoded data removed]",
      "text/plain": [
       "<matplotlib.figure.Figure at 0x7fca69f394a8>"
      ]
     },
     "metadata": {},
     "output_type": "display_data"
    }
   ],
   "source": [
    "df.hist(column='equity', by='audantic_target', bins=6, range=(0, 600000), figsize=(15,5))"
   ]
  },
  {
   "cell_type": "code",
   "execution_count": 22,
   "metadata": {},
   "outputs": [
    {
     "data": {
      "text/plain": [
       "array([<matplotlib.axes._subplots.AxesSubplot object at 0x7fca69e26da0>,\n",
       "       <matplotlib.axes._subplots.AxesSubplot object at 0x7fca69d56898>], dtype=object)"
      ]
     },
     "execution_count": 22,
     "metadata": {},
     "output_type": "execute_result"
    },
    {
     "data": {
      "image/png": "[encoded data removed]",
      "text/plain": [
       "<matplotlib.figure.Figure at 0x7fca69dd8470>"
      ]
     },
     "metadata": {},
     "output_type": "display_data"
    }
   ],
   "source": [
    "df.hist(column='mosaic_diff', by='audantic_target', bins=20, figsize=(15,5))"
   ]
  },
  {
   "cell_type": "code",
   "execution_count": 23,
   "metadata": {
    "scrolled": false
   },
   "outputs": [
    {
     "data": {
      "text/plain": [
       "array([<matplotlib.axes._subplots.AxesSubplot object at 0x7fca69cb9898>,\n",
       "       <matplotlib.axes._subplots.AxesSubplot object at 0x7fca68f21e80>], dtype=object)"
      ]
     },
     "execution_count": 23,
     "metadata": {},
     "output_type": "execute_result"
    },
    {
     "data": {
      "image/png": "[encoded data removed]",
      "text/plain": [
       "<matplotlib.figure.Figure at 0x7fca68fffdd8>"
      ]
     },
     "metadata": {},
     "output_type": "display_data"
    }
   ],
   "source": [
    "df.hist(column='zipcode', by='audantic_target', bins=50, figsize=(15,5))"
   ]
  },
  {
   "cell_type": "markdown",
   "metadata": {},
   "source": [
    "### Preliminary observations from the histograms above\n",
    "1. Larger proportion of < 1000 sqft homes in audantic_target =1 vs =0\n",
    "2. Smaller proportion of newer homes in audantic_target =1 vs =0\n",
    "3. Distribution of equity look roughly similar\n",
    "4. Distribution of mosiac_diff look roughly similar\n",
    "5. Distribution of zipcodes look roughly similar"
   ]
  },
  {
   "cell_type": "markdown",
   "metadata": {},
   "source": [
    "## Calculated Metrics"
   ]
  },
  {
   "cell_type": "markdown",
   "metadata": {},
   "source": [
    "### 1. estimated_value - sale_amount"
   ]
  },
  {
   "cell_type": "code",
   "execution_count": 24,
   "metadata": {},
   "outputs": [],
   "source": [
    "df['estimated_vs_sale']=df['estimated_value']-df['sale_amount']"
   ]
  },
  {
   "cell_type": "code",
   "execution_count": 25,
   "metadata": {},
   "outputs": [
    {
     "data": {
      "text/html": [
       "<div>\n",
       "<table border=\"1\" class=\"dataframe\">\n",
       "  <thead>\n",
       "    <tr style=\"text-align: right;\">\n",
       "      <th>audantic_target</th>\n",
       "      <th>0</th>\n",
       "      <th>1</th>\n",
       "    </tr>\n",
       "  </thead>\n",
       "  <tbody>\n",
       "    <tr>\n",
       "      <th>estimated_vs_sale</th>\n",
       "      <td>13674.0</td>\n",
       "      <td>75795.0</td>\n",
       "    </tr>\n",
       "  </tbody>\n",
       "</table>\n",
       "</div>"
      ],
      "text/plain": [
       "audantic_target          0        1\n",
       "estimated_vs_sale  13674.0  75795.0"
      ]
     },
     "execution_count": 25,
     "metadata": {},
     "output_type": "execute_result"
    }
   ],
   "source": [
    "df.groupby('audantic_target').mean().round().filter(items=['estimated_vs_sale']).T"
   ]
  },
  {
   "cell_type": "code",
   "execution_count": 26,
   "metadata": {},
   "outputs": [
    {
     "data": {
      "text/plain": [
       "array([<matplotlib.axes._subplots.AxesSubplot object at 0x7fca68ee5048>,\n",
       "       <matplotlib.axes._subplots.AxesSubplot object at 0x7fca68c27320>], dtype=object)"
      ]
     },
     "execution_count": 26,
     "metadata": {},
     "output_type": "execute_result"
    },
    {
     "data": {
      "image/png": "[encoded data removed]",
      "text/plain": [
       "<matplotlib.figure.Figure at 0x7fca68cef588>"
      ]
     },
     "metadata": {},
     "output_type": "display_data"
    }
   ],
   "source": [
    "df.hist(column='estimated_vs_sale', by='audantic_target', bins=20, range=(-500000, 500000), figsize=(15,5))"
   ]
  },
  {
   "cell_type": "markdown",
   "metadata": {},
   "source": [
    "### The average difference between estimated_value and sale_amount is greater for audantic_target =1 than =0"
   ]
  },
  {
   "cell_type": "markdown",
   "metadata": {},
   "source": [
    "### 2. sale_amount / square_footage"
   ]
  },
  {
   "cell_type": "code",
   "execution_count": 27,
   "metadata": {},
   "outputs": [],
   "source": [
    "df['valid_square_footage'] = df[df['square_footage']>0].filter(items=['square_footage'])"
   ]
  },
  {
   "cell_type": "code",
   "execution_count": 28,
   "metadata": {},
   "outputs": [],
   "source": [
    "df['value_per_sqft']=df['sale_amount']/df['valid_square_footage']"
   ]
  },
  {
   "cell_type": "code",
   "execution_count": 29,
   "metadata": {},
   "outputs": [
    {
     "data": {
      "text/html": [
       "<div>\n",
       "<table border=\"1\" class=\"dataframe\">\n",
       "  <thead>\n",
       "    <tr style=\"text-align: right;\">\n",
       "      <th>audantic_target</th>\n",
       "      <th>0</th>\n",
       "      <th>1</th>\n",
       "    </tr>\n",
       "  </thead>\n",
       "  <tbody>\n",
       "    <tr>\n",
       "      <th>value_per_sqft</th>\n",
       "      <td>179.0</td>\n",
       "      <td>153.0</td>\n",
       "    </tr>\n",
       "  </tbody>\n",
       "</table>\n",
       "</div>"
      ],
      "text/plain": [
       "audantic_target      0      1\n",
       "value_per_sqft   179.0  153.0"
      ]
     },
     "execution_count": 29,
     "metadata": {},
     "output_type": "execute_result"
    }
   ],
   "source": [
    "df.groupby('audantic_target').mean().round().filter(items=['value_per_sqft']).T"
   ]
  },
  {
   "cell_type": "code",
   "execution_count": 30,
   "metadata": {},
   "outputs": [
    {
     "data": {
      "text/plain": [
       "array([<matplotlib.axes._subplots.AxesSubplot object at 0x7fca68ad3390>,\n",
       "       <matplotlib.axes._subplots.AxesSubplot object at 0x7fca68a63cc0>], dtype=object)"
      ]
     },
     "execution_count": 30,
     "metadata": {},
     "output_type": "execute_result"
    },
    {
     "data": {
      "image/png": "[encoded data removed]",
      "text/plain": [
       "<matplotlib.figure.Figure at 0x7fca68ae64a8>"
      ]
     },
     "metadata": {},
     "output_type": "display_data"
    }
   ],
   "source": [
    "df.hist(column='value_per_sqft', by='audantic_target', bins=40, range=(0, 400), figsize=(15,5))"
   ]
  },
  {
   "cell_type": "markdown",
   "metadata": {},
   "source": [
    "### The average value_per_sqft is lower for audantic_target =1 than =0"
   ]
  },
  {
   "cell_type": "markdown",
   "metadata": {},
   "source": [
    "## Significance Testing"
   ]
  },
  {
   "cell_type": "markdown",
   "metadata": {},
   "source": [
    "### Testing for statistically significant differences between audantic_target=1 vs =0 using a two-sided t test"
   ]
  },
  {
   "cell_type": "code",
   "execution_count": 31,
   "metadata": {},
   "outputs": [],
   "source": [
    "import scipy"
   ]
  },
  {
   "cell_type": "code",
   "execution_count": 32,
   "metadata": {},
   "outputs": [],
   "source": [
    "from scipy import stats"
   ]
  },
  {
   "cell_type": "code",
   "execution_count": 33,
   "metadata": {},
   "outputs": [],
   "source": [
    "# the two metrics we will test are the calculated ones from above (estimated_value - sale_amount and sale_amount / square_footage)\n",
    "testing_cols = ['estimated_vs_sale', 'value_per_sqft']"
   ]
  },
  {
   "cell_type": "code",
   "execution_count": 34,
   "metadata": {},
   "outputs": [
    {
     "name": "stdout",
     "output_type": "stream",
     "text": [
      "estimated_vs_sale T-Test Result:[  1.18541307e-110]\n",
      "value_per_sqft T-Test Result:2.2496496938169648e-23\n"
     ]
    }
   ],
   "source": [
    "for column in df[testing_cols]:\n",
    "    array0 = (df[df['audantic_target'] == 0].filter(items=[column])).values\n",
    "    array1 = (df[df['audantic_target'] == 1].filter(items=[column])).values\n",
    "    result = scipy.stats.ttest_ind(array0, array1, equal_var=False, nan_policy='omit')\n",
    "    print(column+\" T-Test Result:\"+str(result.pvalue))"
   ]
  },
  {
   "cell_type": "markdown",
   "metadata": {},
   "source": [
    "### For both metrics, the p-value is < 0.01 (have a statistically signficant result at 99% confidence level). \n",
    "### We can say the difference in sample means of metric 1(estimated value - sale amount) and metric 2(sale amount / square footage) between audantic_target=0 and audantic_target=1 is statistically signficant and we can reject our null hypothesis (that there is no difference in the sample means between the two groups)\n",
    "### From this I would infer that a greater difference between estimated value and sale amount, as well as a lower sale value per square footage increases the likelihood a property falls into category audantic_target=1"
   ]
  },
  {
   "cell_type": "markdown",
   "metadata": {},
   "source": [
    "## Other Qualitative Variables"
   ]
  },
  {
   "cell_type": "code",
   "execution_count": 35,
   "metadata": {},
   "outputs": [
    {
     "data": {
      "text/html": [
       "<div>\n",
       "<table border=\"1\" class=\"dataframe\">\n",
       "  <thead>\n",
       "    <tr>\n",
       "      <th></th>\n",
       "      <th colspan=\"3\" halign=\"left\">audantic_target</th>\n",
       "    </tr>\n",
       "    <tr>\n",
       "      <th></th>\n",
       "      <th>sum</th>\n",
       "      <th>count</th>\n",
       "      <th>mean</th>\n",
       "    </tr>\n",
       "    <tr>\n",
       "      <th>transfer_type</th>\n",
       "      <th></th>\n",
       "      <th></th>\n",
       "      <th></th>\n",
       "    </tr>\n",
       "  </thead>\n",
       "  <tbody>\n",
       "    <tr>\n",
       "      <th>construction sale</th>\n",
       "      <td>441</td>\n",
       "      <td>1560</td>\n",
       "      <td>0.282692</td>\n",
       "    </tr>\n",
       "    <tr>\n",
       "      <th>subdivision related transfer</th>\n",
       "      <td>0</td>\n",
       "      <td>1268</td>\n",
       "      <td>0.000000</td>\n",
       "    </tr>\n",
       "    <tr>\n",
       "      <th>transfer</th>\n",
       "      <td>2302</td>\n",
       "      <td>70526</td>\n",
       "      <td>0.032640</td>\n",
       "    </tr>\n",
       "    <tr>\n",
       "      <th>transfer to lender</th>\n",
       "      <td>0</td>\n",
       "      <td>1695</td>\n",
       "      <td>0.000000</td>\n",
       "    </tr>\n",
       "  </tbody>\n",
       "</table>\n",
       "</div>"
      ],
      "text/plain": [
       "                             audantic_target                 \n",
       "                                         sum  count      mean\n",
       "transfer_type                                                \n",
       "construction sale                        441   1560  0.282692\n",
       "subdivision related transfer               0   1268  0.000000\n",
       "transfer                                2302  70526  0.032640\n",
       "transfer to lender                         0   1695  0.000000"
      ]
     },
     "execution_count": 35,
     "metadata": {},
     "output_type": "execute_result"
    }
   ],
   "source": [
    "df.groupby(df['transfer_type'].str.lower()).agg({'audantic_target': ['sum','count','mean']})"
   ]
  },
  {
   "cell_type": "markdown",
   "metadata": {},
   "source": [
    "### Audantic Target = 1 are more likely to be construction sale"
   ]
  },
  {
   "cell_type": "code",
   "execution_count": 36,
   "metadata": {},
   "outputs": [
    {
     "data": {
      "text/html": [
       "<div>\n",
       "<table border=\"1\" class=\"dataframe\">\n",
       "  <thead>\n",
       "    <tr>\n",
       "      <th></th>\n",
       "      <th colspan=\"3\" halign=\"left\">audantic_target</th>\n",
       "    </tr>\n",
       "    <tr>\n",
       "      <th></th>\n",
       "      <th>sum</th>\n",
       "      <th>count</th>\n",
       "      <th>mean</th>\n",
       "    </tr>\n",
       "    <tr>\n",
       "      <th>document_type</th>\n",
       "      <th></th>\n",
       "      <th></th>\n",
       "      <th></th>\n",
       "    </tr>\n",
       "  </thead>\n",
       "  <tbody>\n",
       "    <tr>\n",
       "      <th>Deed in Lieu of Foreclosure</th>\n",
       "      <td>0</td>\n",
       "      <td>5</td>\n",
       "      <td>0.000000</td>\n",
       "    </tr>\n",
       "    <tr>\n",
       "      <th>Dual Purpose Document</th>\n",
       "      <td>1</td>\n",
       "      <td>9</td>\n",
       "      <td>0.111111</td>\n",
       "    </tr>\n",
       "    <tr>\n",
       "      <th>Grant Deed</th>\n",
       "      <td>1200</td>\n",
       "      <td>24315</td>\n",
       "      <td>0.049352</td>\n",
       "    </tr>\n",
       "    <tr>\n",
       "      <th>Loan 1 (Only) Is A Reverse Mortgage</th>\n",
       "      <td>0</td>\n",
       "      <td>1</td>\n",
       "      <td>0.000000</td>\n",
       "    </tr>\n",
       "    <tr>\n",
       "      <th>Trustees Deed</th>\n",
       "      <td>0</td>\n",
       "      <td>1724</td>\n",
       "      <td>0.000000</td>\n",
       "    </tr>\n",
       "    <tr>\n",
       "      <th>Warranty Deed</th>\n",
       "      <td>1539</td>\n",
       "      <td>48987</td>\n",
       "      <td>0.031416</td>\n",
       "    </tr>\n",
       "  </tbody>\n",
       "</table>\n",
       "</div>"
      ],
      "text/plain": [
       "                                    audantic_target                 \n",
       "                                                sum  count      mean\n",
       "document_type                                                       \n",
       "Deed in Lieu of Foreclosure                       0      5  0.000000\n",
       "Dual Purpose Document                             1      9  0.111111\n",
       "Grant Deed                                     1200  24315  0.049352\n",
       "Loan 1 (Only) Is A Reverse Mortgage               0      1  0.000000\n",
       "Trustees Deed                                     0   1724  0.000000\n",
       "Warranty Deed                                  1539  48987  0.031416"
      ]
     },
     "execution_count": 36,
     "metadata": {},
     "output_type": "execute_result"
    }
   ],
   "source": [
    "df.groupby('document_type').agg({'audantic_target': ['sum','count','mean']})"
   ]
  },
  {
   "cell_type": "code",
   "execution_count": 37,
   "metadata": {},
   "outputs": [
    {
     "data": {
      "text/html": [
       "<div>\n",
       "<table border=\"1\" class=\"dataframe\">\n",
       "  <thead>\n",
       "    <tr>\n",
       "      <th></th>\n",
       "      <th colspan=\"3\" halign=\"left\">audantic_target</th>\n",
       "    </tr>\n",
       "    <tr>\n",
       "      <th></th>\n",
       "      <th>sum</th>\n",
       "      <th>count</th>\n",
       "      <th>mean</th>\n",
       "    </tr>\n",
       "    <tr>\n",
       "      <th>distress_circumstance</th>\n",
       "      <th></th>\n",
       "      <th></th>\n",
       "      <th></th>\n",
       "    </tr>\n",
       "  </thead>\n",
       "  <tbody>\n",
       "    <tr>\n",
       "      <th>Loan Record</th>\n",
       "      <td>0</td>\n",
       "      <td>10</td>\n",
       "      <td>0</td>\n",
       "    </tr>\n",
       "    <tr>\n",
       "      <th>Property sold by lender / REO Out</th>\n",
       "      <td>0</td>\n",
       "      <td>6639</td>\n",
       "      <td>0</td>\n",
       "    </tr>\n",
       "    <tr>\n",
       "      <th>REO RECORD DERIVED FROM KEYWORDS</th>\n",
       "      <td>0</td>\n",
       "      <td>30</td>\n",
       "      <td>0</td>\n",
       "    </tr>\n",
       "    <tr>\n",
       "      <th>REO RECORD WITH DOC TYPE='U'</th>\n",
       "      <td>0</td>\n",
       "      <td>8</td>\n",
       "      <td>0</td>\n",
       "    </tr>\n",
       "    <tr>\n",
       "      <th>REO Record derived from Keywords</th>\n",
       "      <td>0</td>\n",
       "      <td>12</td>\n",
       "      <td>0</td>\n",
       "    </tr>\n",
       "    <tr>\n",
       "      <th>REO Record with Doc Type='U'</th>\n",
       "      <td>0</td>\n",
       "      <td>2</td>\n",
       "      <td>0</td>\n",
       "    </tr>\n",
       "    <tr>\n",
       "      <th>REO transfer to Guarantor</th>\n",
       "      <td>0</td>\n",
       "      <td>1</td>\n",
       "      <td>0</td>\n",
       "    </tr>\n",
       "    <tr>\n",
       "      <th>SALE RECORD - OWNERSHIP TRANSFER</th>\n",
       "      <td>0</td>\n",
       "      <td>7</td>\n",
       "      <td>0</td>\n",
       "    </tr>\n",
       "    <tr>\n",
       "      <th>Sale Record -  REO Liquidation</th>\n",
       "      <td>0</td>\n",
       "      <td>1713</td>\n",
       "      <td>0</td>\n",
       "    </tr>\n",
       "    <tr>\n",
       "      <th>Sale Record - Foreclosure Auction</th>\n",
       "      <td>0</td>\n",
       "      <td>305</td>\n",
       "      <td>0</td>\n",
       "    </tr>\n",
       "    <tr>\n",
       "      <th>Sale Record - Inferred Short Sale</th>\n",
       "      <td>0</td>\n",
       "      <td>1272</td>\n",
       "      <td>0</td>\n",
       "    </tr>\n",
       "    <tr>\n",
       "      <th>Sale Record - Ownership Transfer</th>\n",
       "      <td>0</td>\n",
       "      <td>2</td>\n",
       "      <td>0</td>\n",
       "    </tr>\n",
       "    <tr>\n",
       "      <th>Short Sale</th>\n",
       "      <td>0</td>\n",
       "      <td>5419</td>\n",
       "      <td>0</td>\n",
       "    </tr>\n",
       "    <tr>\n",
       "      <th>Sold at mortgage foreclosure auction to 3rd party</th>\n",
       "      <td>0</td>\n",
       "      <td>1706</td>\n",
       "      <td>0</td>\n",
       "    </tr>\n",
       "  </tbody>\n",
       "</table>\n",
       "</div>"
      ],
      "text/plain": [
       "                                                  audantic_target           \n",
       "                                                              sum count mean\n",
       "distress_circumstance                                                       \n",
       "Loan Record                                                     0    10    0\n",
       "Property sold by lender / REO Out                               0  6639    0\n",
       "REO RECORD DERIVED FROM KEYWORDS                                0    30    0\n",
       "REO RECORD WITH DOC TYPE='U'                                    0     8    0\n",
       "REO Record derived from Keywords                                0    12    0\n",
       "REO Record with Doc Type='U'                                    0     2    0\n",
       "REO transfer to Guarantor                                       0     1    0\n",
       "SALE RECORD - OWNERSHIP TRANSFER                                0     7    0\n",
       "Sale Record -  REO Liquidation                                  0  1713    0\n",
       "Sale Record - Foreclosure Auction                               0   305    0\n",
       "Sale Record - Inferred Short Sale                               0  1272    0\n",
       "Sale Record - Ownership Transfer                                0     2    0\n",
       "Short Sale                                                      0  5419    0\n",
       "Sold at mortgage foreclosure auction to 3rd party               0  1706    0"
      ]
     },
     "execution_count": 37,
     "metadata": {},
     "output_type": "execute_result"
    }
   ],
   "source": [
    "df.groupby('distress_circumstance').agg({'audantic_target': ['sum','count','mean']})"
   ]
  },
  {
   "cell_type": "markdown",
   "metadata": {},
   "source": [
    "### Observations:\n",
    "1. Larger proportion of \"construction sale\" transfer types in audantic_target =1 vs =0\n",
    "2. 'distress_circumstance' is NaN for all 'audantic_target' = 1 rows but overall, 87% of values for 'distress_circumstance' are NaN (unclear if in this context this means there was NO distress circumstance or if data is actually missing) "
   ]
  }
 ],
 "metadata": {
  "kernelspec": {
   "display_name": "Python 3",
   "language": "python",
   "name": "python3"
  },
  "language_info": {
   "codemirror_mode": {
    "name": "ipython",
    "version": 3
   },
   "file_extension": ".py",
   "mimetype": "text/x-python",
   "name": "python",
   "nbconvert_exporter": "python",
   "pygments_lexer": "ipython3",
   "version": "3.6.3"
  }
 },
 "nbformat": 4,
 "nbformat_minor": 2
}
